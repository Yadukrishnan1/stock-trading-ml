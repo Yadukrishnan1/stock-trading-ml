{
  "nbformat": 4,
  "nbformat_minor": 0,
  "metadata": {
    "colab": {
      "name": "stock_trade.ipynb",
      "provenance": [],
      "authorship_tag": "ABX9TyNhsHgRYzb6tOBRHBfmcz2w",
      "include_colab_link": true
    },
    "kernelspec": {
      "name": "python3",
      "display_name": "Python 3"
    },
    "accelerator": "GPU"
  },
  "cells": [
    {
      "cell_type": "markdown",
      "metadata": {
        "id": "view-in-github",
        "colab_type": "text"
      },
      "source": [
        "<a href=\"https://colab.research.google.com/github/Yadukrishnan1/stock-trading-ml/blob/master/stock_trade.ipynb\" target=\"_parent\"><img src=\"https://colab.research.google.com/assets/colab-badge.svg\" alt=\"Open In Colab\"/></a>"
      ]
    },
    {
      "cell_type": "code",
      "metadata": {
        "id": "No8qu70HHC-y",
        "colab_type": "code",
        "colab": {
          "base_uri": "https://localhost:8080/",
          "height": 34
        },
        "outputId": "53890287-eb62-4b66-822c-9639025c2d43"
      },
      "source": [
        "from google.colab import drive\n",
        "drive.mount('/content/gdrive')"
      ],
      "execution_count": 1,
      "outputs": [
        {
          "output_type": "stream",
          "text": [
            "Drive already mounted at /content/gdrive; to attempt to forcibly remount, call drive.mount(\"/content/gdrive\", force_remount=True).\n"
          ],
          "name": "stdout"
        }
      ]
    },
    {
      "cell_type": "code",
      "metadata": {
        "id": "3BrB3nLVJzWV",
        "colab_type": "code",
        "colab": {}
      },
      "source": [
        "!pip install alpha_vantage"
      ],
      "execution_count": 0,
      "outputs": []
    },
    {
      "cell_type": "code",
      "metadata": {
        "id": "GleK2dw_DOMm",
        "colab_type": "code",
        "colab": {}
      },
      "source": [
        "from getpass import getpass\n",
        "import os"
      ],
      "execution_count": 0,
      "outputs": []
    },
    {
      "cell_type": "code",
      "metadata": {
        "id": "jEmQe60HD-Wd",
        "colab_type": "code",
        "colab": {}
      },
      "source": [
        "AV_KEY = getpass('AlphaVantage API Key (https://www.alphavantage.co/support/#api-key)')"
      ],
      "execution_count": 0,
      "outputs": []
    },
    {
      "cell_type": "code",
      "metadata": {
        "id": "ujvTTH5FEHw7",
        "colab_type": "code",
        "colab": {
          "base_uri": "https://localhost:8080/",
          "height": 252
        },
        "outputId": "62ef9ff6-c07a-4d8d-c2f8-104129e72c7a"
      },
      "source": [
        "sym='MSFT'\n",
        "\n",
        "import urllib.request\n",
        "\n",
        "fname = 'daily_adjusted_' + sym +'.csv'\n",
        "\n",
        "if not os.path.isfile(fname):\n",
        "  v = urllib.request.urlopen(\"https://www.alphavantage.co/query?function=TIME_SERIES_DAILY_ADJUSTED&symbol=\" + sym + \"&apikey=\" + AV_KEY + \"&outputsize=full&datatype=csv\").read()\n",
        "  with open(fname, 'wb') as f:\n",
        "    f.write(v)"
      ],
      "execution_count": 3,
      "outputs": [
        {
          "output_type": "error",
          "ename": "NameError",
          "evalue": "ignored",
          "traceback": [
            "\u001b[0;31m---------------------------------------------------------------------------\u001b[0m",
            "\u001b[0;31mNameError\u001b[0m                                 Traceback (most recent call last)",
            "\u001b[0;32m<ipython-input-3-a7bf8558391b>\u001b[0m in \u001b[0;36m<module>\u001b[0;34m()\u001b[0m\n\u001b[1;32m      6\u001b[0m \u001b[0;34m\u001b[0m\u001b[0m\n\u001b[1;32m      7\u001b[0m \u001b[0;32mif\u001b[0m \u001b[0;32mnot\u001b[0m \u001b[0mos\u001b[0m\u001b[0;34m.\u001b[0m\u001b[0mpath\u001b[0m\u001b[0;34m.\u001b[0m\u001b[0misfile\u001b[0m\u001b[0;34m(\u001b[0m\u001b[0mfname\u001b[0m\u001b[0;34m)\u001b[0m\u001b[0;34m:\u001b[0m\u001b[0;34m\u001b[0m\u001b[0;34m\u001b[0m\u001b[0m\n\u001b[0;32m----> 8\u001b[0;31m   \u001b[0mv\u001b[0m \u001b[0;34m=\u001b[0m \u001b[0murllib\u001b[0m\u001b[0;34m.\u001b[0m\u001b[0mrequest\u001b[0m\u001b[0;34m.\u001b[0m\u001b[0murlopen\u001b[0m\u001b[0;34m(\u001b[0m\u001b[0;34m\"https://www.alphavantage.co/query?function=TIME_SERIES_DAILY_ADJUSTED&symbol=\"\u001b[0m \u001b[0;34m+\u001b[0m \u001b[0msym\u001b[0m \u001b[0;34m+\u001b[0m \u001b[0;34m\"&apikey=\"\u001b[0m \u001b[0;34m+\u001b[0m \u001b[0mAV_KEY\u001b[0m \u001b[0;34m+\u001b[0m \u001b[0;34m\"&outputsize=full&datatype=csv\"\u001b[0m\u001b[0;34m)\u001b[0m\u001b[0;34m.\u001b[0m\u001b[0mread\u001b[0m\u001b[0;34m(\u001b[0m\u001b[0;34m)\u001b[0m\u001b[0;34m\u001b[0m\u001b[0;34m\u001b[0m\u001b[0m\n\u001b[0m\u001b[1;32m      9\u001b[0m   \u001b[0;32mwith\u001b[0m \u001b[0mopen\u001b[0m\u001b[0;34m(\u001b[0m\u001b[0mfname\u001b[0m\u001b[0;34m,\u001b[0m \u001b[0;34m'wb'\u001b[0m\u001b[0;34m)\u001b[0m \u001b[0;32mas\u001b[0m \u001b[0mf\u001b[0m\u001b[0;34m:\u001b[0m\u001b[0;34m\u001b[0m\u001b[0;34m\u001b[0m\u001b[0m\n\u001b[1;32m     10\u001b[0m     \u001b[0mf\u001b[0m\u001b[0;34m.\u001b[0m\u001b[0mwrite\u001b[0m\u001b[0;34m(\u001b[0m\u001b[0mv\u001b[0m\u001b[0;34m)\u001b[0m\u001b[0;34m\u001b[0m\u001b[0;34m\u001b[0m\u001b[0m\n",
            "\u001b[0;31mNameError\u001b[0m: name 'AV_KEY' is not defined"
          ]
        }
      ]
    },
    {
      "cell_type": "code",
      "metadata": {
        "id": "dfqiBMicCqNc",
        "colab_type": "code",
        "colab": {
          "base_uri": "https://localhost:8080/",
          "height": 181
        },
        "outputId": "d31b1771-0d0a-4d24-ff51-a03a7a4ce1a9"
      },
      "source": [
        "from alpha_vantage.timeseries import TimeSeries\n",
        "from pprint import pprint\n",
        "import json\n",
        "import argparse\n",
        "\n",
        "\n",
        "def save_dataset(symbol, time_window):\n",
        "    credentials = json.load(open('creds.json', 'r'))\n",
        "    api_key = credentials['av_api_key']\n",
        "    print(symbol, time_window)\n",
        "    ts = TimeSeries(key=api_key, output_format='pandas')\n",
        "    if time_window == 'intraday':\n",
        "        data, meta_data = ts.get_intraday(\n",
        "            symbol='MSFT', interval='1min', outputsize='full')\n",
        "    elif time_window == 'daily':\n",
        "        data, meta_data = ts.get_daily(symbol, outputsize='full')\n",
        "    elif time_window == 'daily_adj':\n",
        "        data, meta_data = ts.get_daily_adjusted(symbol, outputsize='full')\n",
        "\n",
        "    pprint(data.head(10))\n",
        "\n",
        "    data.to_csv(f'./{symbol}_{time_window}.csv')\n",
        "\n",
        "\n",
        "if __name__ == \"__main__\":\n",
        "    parser = argparse.ArgumentParser()\n",
        "\n",
        "    parser.add_argument('symbol', type=str, help=\"the stock symbol you want to download\")\n",
        "    parser.add_argument('time_window', type=str, choices=[\n",
        "                        'intraday', 'daily', 'daily_adj'], help=\"the time period you want to download the stock history for\")\n",
        "\n",
        "    namespace = parser.parse_args()\n",
        "    save_dataset(**vars(namespace))\n"
      ],
      "execution_count": 7,
      "outputs": [
        {
          "output_type": "stream",
          "text": [
            "usage: ipykernel_launcher.py [-h] symbol {intraday,daily,daily_adj}\n",
            "ipykernel_launcher.py: error: the following arguments are required: time_window\n"
          ],
          "name": "stderr"
        },
        {
          "output_type": "error",
          "ename": "SystemExit",
          "evalue": "ignored",
          "traceback": [
            "An exception has occurred, use %tb to see the full traceback.\n",
            "\u001b[0;31mSystemExit\u001b[0m\u001b[0;31m:\u001b[0m 2\n"
          ]
        },
        {
          "output_type": "stream",
          "text": [
            "/usr/local/lib/python3.6/dist-packages/IPython/core/interactiveshell.py:2890: UserWarning: To exit: use 'exit', 'quit', or Ctrl-D.\n",
            "  warn(\"To exit: use 'exit', 'quit', or Ctrl-D.\", stacklevel=1)\n"
          ],
          "name": "stderr"
        }
      ]
    },
    {
      "cell_type": "code",
      "metadata": {
        "id": "pqKSQZi3EF6x",
        "colab_type": "code",
        "colab": {}
      },
      "source": [
        ""
      ],
      "execution_count": 0,
      "outputs": []
    },
    {
      "cell_type": "code",
      "metadata": {
        "id": "aA8Jo6dkC8AQ",
        "colab_type": "code",
        "colab": {}
      },
      "source": [
        ""
      ],
      "execution_count": 0,
      "outputs": []
    }
  ]
}