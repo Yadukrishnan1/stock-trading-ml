{
  "nbformat": 4,
  "nbformat_minor": 0,
  "metadata": {
    "colab": {
      "name": "stock_trade.ipynb",
      "provenance": [],
      "collapsed_sections": [],
      "authorship_tag": "ABX9TyM3k5XItkU7/DxFzY1AnhKA",
      "include_colab_link": true
    },
    "kernelspec": {
      "name": "python3",
      "display_name": "Python 3"
    }
  },
  "cells": [
    {
      "cell_type": "markdown",
      "metadata": {
        "id": "view-in-github",
        "colab_type": "text"
      },
      "source": [
        "<a href=\"https://colab.research.google.com/github/Yadukrishnan1/stock-trading-ml/blob/master/stock_trade_06_16_2020.ipynb\" target=\"_parent\"><img src=\"https://colab.research.google.com/assets/colab-badge.svg\" alt=\"Open In Colab\"/></a>"
      ]
    },
    {
      "cell_type": "code",
      "metadata": {
        "id": "No8qu70HHC-y",
        "colab_type": "code",
        "colab": {
          "base_uri": "https://localhost:8080/",
          "height": 34
        },
        "outputId": "53890287-eb62-4b66-822c-9639025c2d43"
      },
      "source": [
        "from google.colab import drive\n",
        "drive.mount('/content/gdrive')"
      ],
      "execution_count": null,
      "outputs": [
        {
          "output_type": "stream",
          "text": [
            "Drive already mounted at /content/gdrive; to attempt to forcibly remount, call drive.mount(\"/content/gdrive\", force_remount=True).\n"
          ],
          "name": "stdout"
        }
      ]
    },
    {
      "cell_type": "code",
      "metadata": {
        "id": "GoXhocFJN5Ej",
        "colab_type": "code",
        "colab": {}
      },
      "source": [
        "!pip install alpha-vantage"
      ],
      "execution_count": null,
      "outputs": []
    },
    {
      "cell_type": "code",
      "metadata": {
        "id": "o3z-bO3-LWjC",
        "colab_type": "code",
        "colab": {
          "base_uri": "https://localhost:8080/",
          "height": 34
        },
        "outputId": "3ed9c40b-de68-40e0-84e4-8d0ab0942434"
      },
      "source": [
        "from alpha_vantage.timeseries import TimeSeries\n",
        "# Your key here\n",
        "key = 'JHW7SMKDWPCEH4P5'\n",
        "ts = TimeSeries(key)\n",
        "aapl, meta = ts.get_daily(symbol='AAPL')\n",
        "print(aapl['2020-04-16'])"
      ],
      "execution_count": 12,
      "outputs": [
        {
          "output_type": "stream",
          "text": [
            "{'1. open': '287.3800', '2. high': '288.1975', '3. low': '282.3502', '4. close': '286.6900', '5. volume': '39281290'}\n"
          ],
          "name": "stdout"
        }
      ]
    },
    {
      "cell_type": "code",
      "metadata": {
        "id": "GleK2dw_DOMm",
        "colab_type": "code",
        "colab": {}
      },
      "source": [
        "from getpass import getpass\n",
        "import os"
      ],
      "execution_count": 13,
      "outputs": []
    },
    {
      "cell_type": "code",
      "metadata": {
        "id": "jEmQe60HD-Wd",
        "colab_type": "code",
        "colab": {}
      },
      "source": [
        "AV_KEY = getpass('AlphaVantage API Key (https://www.alphavantage.co/support/#api-key)')"
      ],
      "execution_count": null,
      "outputs": []
    },
    {
      "cell_type": "code",
      "metadata": {
        "id": "ujvTTH5FEHw7",
        "colab_type": "code",
        "colab": {}
      },
      "source": [
        "sym='MSFT'\n",
        "\n",
        "import urllib.request\n",
        "\n",
        "fname = 'daily_adjusted_' + sym +'.csv'\n",
        "\n",
        "if not os.path.isfile(fname):\n",
        "  v = urllib.request.urlopen(\"https://www.alphavantage.co/query?function=TIME_SERIES_DAILY_ADJUSTED&symbol=\" + sym + \"&apikey=\" + AV_KEY + \"&outputsize=full&datatype=csv\").read()\n",
        "  with open(fname, 'wb') as f:\n",
        "    f.write(v)"
      ],
      "execution_count": 15,
      "outputs": []
    },
    {
      "cell_type": "code",
      "metadata": {
        "id": "dfqiBMicCqNc",
        "colab_type": "code",
        "colab": {
          "base_uri": "https://localhost:8080/",
          "height": 181
        },
        "outputId": "fd33bf77-70a3-41f1-b7f9-a31d8db6a56c"
      },
      "source": [
        "from alpha_vantage.timeseries import TimeSeries\n",
        "from pprint import pprint\n",
        "import json\n",
        "import argparse\n",
        "\n",
        "\n",
        "def save_dataset(symbol, time_window):\n",
        "    credentials = json.load(open('creds.json', 'r'))\n",
        "    api_key = credentials['av_api_key']\n",
        "    print(symbol, time_window)\n",
        "    ts = TimeSeries(key=api_key, output_format='pandas')\n",
        "    if time_window == 'intraday':\n",
        "        data, meta_data = ts.get_intraday(\n",
        "            symbol='MSFT', interval='1min', outputsize='full')\n",
        "    elif time_window == 'daily':\n",
        "        data, meta_data = ts.get_daily(symbol, outputsize='full')\n",
        "    elif time_window == 'daily_adj':\n",
        "        data, meta_data = ts.get_daily_adjusted(symbol, outputsize='full')\n",
        "\n",
        "    pprint(data.head(10))\n",
        "\n",
        "    data.to_csv(f'./{symbol}_{time_window}.csv')\n",
        "\n",
        "\n",
        "if __name__ == \"__main__\":\n",
        "    parser = argparse.ArgumentParser()\n",
        "\n",
        "    parser.add_argument('symbol', type=str, help=\"the stock symbol you want to download\")\n",
        "    parser.add_argument('time_window', type=str, choices=[\n",
        "                        'intraday', 'daily', 'daily_adj'], help=\"the time period you want to download the stock history for\")\n",
        "\n",
        "    namespace = parser.parse_args()\n",
        "    save_dataset(**vars(namespace))\n"
      ],
      "execution_count": 25,
      "outputs": [
        {
          "output_type": "stream",
          "text": [
            "usage: ipykernel_launcher.py [-h] symbol {intraday,daily,daily_adj}\n",
            "ipykernel_launcher.py: error: the following arguments are required: time_window\n"
          ],
          "name": "stderr"
        },
        {
          "output_type": "error",
          "ename": "SystemExit",
          "evalue": "ignored",
          "traceback": [
            "An exception has occurred, use %tb to see the full traceback.\n",
            "\u001b[0;31mSystemExit\u001b[0m\u001b[0;31m:\u001b[0m 2\n"
          ]
        },
        {
          "output_type": "stream",
          "text": [
            "/usr/local/lib/python3.6/dist-packages/IPython/core/interactiveshell.py:2890: UserWarning: To exit: use 'exit', 'quit', or Ctrl-D.\n",
            "  warn(\"To exit: use 'exit', 'quit', or Ctrl-D.\", stacklevel=1)\n"
          ],
          "name": "stderr"
        }
      ]
    },
    {
      "cell_type": "code",
      "metadata": {
        "id": "pqKSQZi3EF6x",
        "colab_type": "code",
        "colab": {}
      },
      "source": [
        ""
      ],
      "execution_count": null,
      "outputs": []
    },
    {
      "cell_type": "code",
      "metadata": {
        "id": "aA8Jo6dkC8AQ",
        "colab_type": "code",
        "colab": {}
      },
      "source": [
        ""
      ],
      "execution_count": null,
      "outputs": []
    }
  ]
}